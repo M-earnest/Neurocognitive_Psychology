{
 "cells": [
  {
   "cell_type": "markdown",
   "id": "e20ac095",
   "metadata": {},
   "source": [
    "### Data- and Project-management Plan"
   ]
  },
  {
   "cell_type": "markdown",
   "id": "a432bd27",
   "metadata": {},
   "source": [
    "As previously discussed, we used the [ABIDE I](http://fcon_1000.projects.nitrc.org/indi/abide/abide_I.html) dataset for this project. Since the data consistet solely of brain images and a phenotypic .csv file, a data-management package such as pybids was not utilised. \n",
    "\n",
    "To manage this neurocognitive Psychology project, a variety of programs were used to ensure fairness and openness. For the initial development of the research question, and an evaluation of existing literature, we used [Zotero](https://www.zotero.org/gretavangerow/collections/D7JQTGLK). In this Zotero library are located a variety of papers regarding Autism symptoms and how these differ between males and females, neuroanatomical brain differences that are sex-specific and autism specific, and a combination of both. While not all of these papers were evaluated in the initial literature review, they are still all relevant and utilize different methods to assess neuroanatomical changes. \n",
    "\n",
    "As a workflow system, containing a brief project description, a link to the Zotero profile and regular updates related to the GitHub repo, [OSF](https://osf.io/fnwd5/) was used. OSF allows researchers, and research teams, to work on projects either privately or publicly, fulfilling our wish to make the project open and fair. It allows for a good overview of the project, with the ability to look deeper into certain areas if desired.   \n",
    "\n",
    "Facilitating further insight into the depths of this project, including the code used, and the problems faced, a [GitHub repository](https://github.com/Gretivan/Neurocognitive_Psychology) was applied. This repository also served as a form of version control, which will be discussed below. Since a GitHub repository can also be made either private or public, and collaborators can be permitted access to evaluate and help fix issues, it further supports our openness goal. "
   ]
  },
  {
   "cell_type": "markdown",
   "id": "a7577cbc",
   "metadata": {},
   "source": [
    "### *FAIR-ness*"
   ]
  },
  {
   "cell_type": "markdown",
   "id": "8a307f04",
   "metadata": {},
   "source": [
    "This project runs on FAIR-ness principles. These 'FAIR Guiding Principles for scientific data management and stewardship' were formulated in 2016 and published in Scientific Data. The intention behind this guide is in improving **F**indability, **A**ccessibility, **I**interoperability, and **R**euse of digital assets. This means emphasising machine-actionability, aka the capacity for computational systmes to find, access, interoperate, and reuse data with little to no human intervention. This is important as humans nowadays rely more and more on computational support to handle and analyse data which has in recent years resulted in an increase in volume and complexity of data. A guide on FAIR principles and how to use these in practice can be found [here](https://www.go-fair.org/how-to-go-fair/)."
   ]
  },
  {
   "cell_type": "markdown",
   "id": "cdfccb5a",
   "metadata": {},
   "source": [
    "### *Computational Environment*"
   ]
  },
  {
   "cell_type": "markdown",
   "id": "0ca71642",
   "metadata": {},
   "source": [
    "In line with the FAIR-ness principle, a computational environment was creating, consisting of all the python modules that are utilised in this study. The use of a computational environment is in that it allows one to assess which versions of these modules are necessary for the replication of the analysis. The environment can be found in the requirements_project.txt file in the Github repository linked above. There are various ways in which you can replicate and use this environment. For a tutorial, you can visit the [Conda website](https://conda.io/projects/conda/en/latest/user-guide/tasks/manage-environments.html#cloning-an-environment) on managing environments. "
   ]
  },
  {
   "cell_type": "markdown",
   "id": "dcd19372",
   "metadata": {},
   "source": [
    "### *Version control*"
   ]
  },
  {
   "cell_type": "markdown",
   "id": "9741053e",
   "metadata": {},
   "source": [
    "The whole process of this project was documented and version controlled. Version control tacks and manages any changes that are made to an existing code. Doing this allows for comparisons of earlier version of codes incase mistakes, or deletions, were made earlier on. It can also be used the track changes, make independent changes and incorporate changes. To do this, we used the version control software GitHub, and [vsCode](https://code.visualstudio.com/), to store files online and make them visible to collaborators. To do this, we created a [GitHub repository](https://github.com/Gretivan/Neurocognitive_Psychology) containing all necessary, and new files, which hold the project development information. In this Github repository you will find any and all changes made and challenges faced throughout the process. A README.md file provides an overview and structure of this project. "
   ]
  }
 ],
 "metadata": {
  "kernelspec": {
   "display_name": "neuro_ai",
   "language": "python",
   "name": "neuro_ai"
  },
  "language_info": {
   "codemirror_mode": {
    "name": "ipython",
    "version": 3
   },
   "file_extension": ".py",
   "mimetype": "text/x-python",
   "name": "python",
   "nbconvert_exporter": "python",
   "pygments_lexer": "ipython3",
   "version": "3.7.0"
  }
 },
 "nbformat": 4,
 "nbformat_minor": 5
}
