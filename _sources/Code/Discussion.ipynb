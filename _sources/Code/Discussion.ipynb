{
 "cells": [
  {
   "cell_type": "markdown",
   "id": "2cd621f6",
   "metadata": {},
   "source": [
    "## Discussion, Limitations and Reflection"
   ]
  },
  {
   "cell_type": "markdown",
   "id": "fe55c176",
   "metadata": {},
   "source": [
    "### *Discussion*"
   ]
  },
  {
   "cell_type": "markdown",
   "id": "71cad496",
   "metadata": {},
   "source": []
  },
  {
   "cell_type": "markdown",
   "id": "281bfa64",
   "metadata": {},
   "source": [
    "### *Limitations*"
   ]
  },
  {
   "cell_type": "markdown",
   "id": "9b2d9d8d",
   "metadata": {},
   "source": [
    "As with all pieces of research, we faced some challenges during the excecution of this project, which we consider as limitations. As mentioned during the assessment of the utiliesd dataset, ABIDE I, we were unable to get access to the more comprehensive ABIDE II data set. The ABIDE I dataset provides more subpar quality in comparison to the data in the ABIDE II dataset. Furthermore, a more methodological limitation concerns the participants themself. That being, that most if not all of the participants in this dataset are individuals with high-function ASD, meaning they present with an IQ above 85. This means that the results presented in this study lack external validity, as they are not generalisable to cohorts of low-function individuals. We know that there are very large differences in behaviour and ASD symptoms between individuals with high- and low-functioning ASD which, as seen with differing symptoms in males and females, suggests that there will also differences in cortical thickness between these individuals, but possibly located in different regions and more substantial. The reason for this limited comprehensiveness of the sample, however, lies in ethics. It is very difficult to acquire MRI data from lower-functioning individuals, as these individuals often have difficult understanding language and thus instructions to lay still, are constantly moving, and are often not able to give consent for such analyses. In line with this problematic sample - the ratio of female to male participants was very uneven. Thus we had to significantly reduce the sample, from over 1000 to 311, in order to have even groups of males and females. "
   ]
  },
  {
   "cell_type": "markdown",
   "id": "98c97359",
   "metadata": {},
   "source": [
    "### *Reflection*"
   ]
  },
  {
   "cell_type": "markdown",
   "id": "1f71bac3",
   "metadata": {},
   "source": [
    "This research projected presented a huge challenge to me and my skills. Previously to this course, I had had only 6 months of basic coding experience, and was thrown into a project that required much more. Throughout this project, I had to climb several boulders that laid in my way, forcing me to really get into depths of data analysis using python. Before starting this project I had no idea about artificial intelligence and machine learning, but it was something that sounded very fascinating to me, and that I wanted to learn more about. Despite the looming fear of how difficult this was going to be, I was pleasantly surprised by how well all the content was explained during the lectures, and how valuable conversations with each individual supervisor were in terms of getting a new perspective.  \n",
    "\n",
    "Throughout this project, I did require a lot of assistance from my peers and my supervisors to get my head around the methods, and even then there are still many things I do not understand. But I have a new found appreciation for coding, and am truly proud of what I managed to produce. A large section of this book surrounds the preprocessing of data which is a vital aspect of data analysis, so having learned and understood how this is done is great. I faced a lot more challenges when it came to using bash to transform my brain images, and when setting up my pipeline for the logistic regression. \n",
    "\n",
    "Overall I can say that I did benefit from a lot of assistance from my peers and the supervisors, but with their explanations I now have a better understanding of why things are done a certain way and what this means. I wish I had had more time to do more, and experiment with more analyses as it is very rewarding when something works. I believe there is so much more I could, or even can do with my preprocessed data, like doing SVM or a random forest analysis. Thus I would say this has generally been an experience with a lot of ups and downs, and serious frustrations but also exciting successes. "
   ]
  }
 ],
 "metadata": {
  "kernelspec": {
   "display_name": "neuro_ai",
   "language": "python",
   "name": "neuro_ai"
  },
  "language_info": {
   "codemirror_mode": {
    "name": "ipython",
    "version": 3
   },
   "file_extension": ".py",
   "mimetype": "text/x-python",
   "name": "python",
   "nbconvert_exporter": "python",
   "pygments_lexer": "ipython3",
   "version": "3.7.0"
  }
 },
 "nbformat": 4,
 "nbformat_minor": 5
}
